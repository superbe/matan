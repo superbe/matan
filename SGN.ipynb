{
 "cells": [
  {
   "cell_type": "markdown",
   "metadata": {},
   "source": [
    "# Домашняя работа к уроку № 8"
   ]
  },
  {
   "cell_type": "markdown",
   "metadata": {},
   "source": [
    "## Задание 8"
   ]
  },
  {
   "cell_type": "code",
   "execution_count": 1,
   "metadata": {},
   "outputs": [],
   "source": [
    "import numpy as np\n",
    "import matplotlib.pyplot as plt\n",
    "from scipy.optimize import fsolve\n",
    "\n",
    "# Задаем рандомное распределение точек\n",
    "x = np.random.uniform(-8, 8, 200)\n",
    "a = np.random.uniform(0.5, 1.5, 200)\n",
    "b = np.random.uniform(-1, 1, 200)\n",
    "f = 1/(1 + np.exp(b - a * x))"
   ]
  },
  {
   "cell_type": "code",
   "execution_count": 2,
   "metadata": {},
   "outputs": [],
   "source": [
    "def equations(p):\n",
    "    _a, _b = p\n",
    "    r1 = 0\n",
    "    r2 = 0\n",
    "    for i in range(len(x)):\n",
    "        e = 1 + np.exp(_b - _a * x[i])\n",
    "        phi = 2 * e * (f[i] - 1 / e) / e**2\n",
    "        r1 += -phi * x[i]\n",
    "        r2 += phi\n",
    "    return (r1, r2)"
   ]
  },
  {
   "cell_type": "code",
   "execution_count": 3,
   "metadata": {},
   "outputs": [],
   "source": [
    "a_, b_ =  fsolve(equations, (1, 0))"
   ]
  },
  {
   "cell_type": "code",
   "execution_count": 4,
   "metadata": {},
   "outputs": [
    {
     "name": "stdout",
     "output_type": "stream",
     "text": [
      "a = 0.8588518027023194, b = -0.05572423281299858\n"
     ]
    }
   ],
   "source": [
    "print(f'a = {a_},', f'b = {b_}')"
   ]
  },
  {
   "cell_type": "code",
   "execution_count": 5,
   "metadata": {},
   "outputs": [
    {
     "data": {
      "image/png": "[encoded data removed]",
      "text/plain": [
       "<Figure size 432x288 with 1 Axes>"
      ]
     },
     "metadata": {},
     "output_type": "display_data"
    }
   ],
   "source": [
    "ff = 1 / (1 + np.exp(b_ - a_ * x))\n",
    "plt.plot(x,f, marker=\"o\", ls=\"\")\n",
    "plt.plot(x,ff, marker=\"o\", ls=\"\")\n",
    "plt.show()"
   ]
  }
 ],
 "metadata": {
  "kernelspec": {
   "display_name": "Python 3",
   "language": "python",
   "name": "python3"
  },
  "language_info": {
   "codemirror_mode": {
    "name": "ipython",
    "version": 3
   },
   "file_extension": ".py",
   "mimetype": "text/x-python",
   "name": "python",
   "nbconvert_exporter": "python",
   "pygments_lexer": "ipython3",
   "version": "3.6.5"
  }
 },
 "nbformat": 4,
 "nbformat_minor": 2
}
