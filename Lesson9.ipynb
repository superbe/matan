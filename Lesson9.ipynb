{
 "cells": [
  {
   "cell_type": "code",
   "execution_count": 1,
   "metadata": {},
   "outputs": [],
   "source": [
    "from scipy.optimize import fsolve\n",
    "import math\n",
    "import unittest\n",
    "import numpy as np\n",
    "import matplotlib.pyplot as plt\n",
    "from math import pi, atan, cos"
   ]
  },
  {
   "cell_type": "code",
   "execution_count": 2,
   "metadata": {},
   "outputs": [
    {
     "name": "stdout",
     "output_type": "stream",
     "text": [
      "(1.2733020645285595, 1.6620391224278501)\n"
     ]
    }
   ],
   "source": [
    "def newton(f, f_prime, x0: float, y0: float, eps: float=1e-7, kmax: int=1e3):\n",
    "    \n",
    "    x, x_prev, y, y_prev, i = x0, x0 - 2 * eps, y0, y0 - 2 * eps, 0\n",
    "    \n",
    "    while abs(x - x_prev) >= eps and abs(y - y_prev) >= eps and i < kmax:\n",
    "        J11, J12, J21, J22 = f_prime((x, y))\n",
    "        f1, f2 = f((x, y))\n",
    "        det = J22 * J11 - J12 * J21\n",
    "        delta_x = -(J22 * f1 - J12 * f2) / det\n",
    "        delta_y = (J21 * f1 - J11 * f2) / det\n",
    "        x, y, x_prev, y_prev, i = x + delta_x, y + delta_y, x, y, i + 1\n",
    "    return (x, y)\n",
    "\n",
    "def f(p):\n",
    "    x, y = p\n",
    "    return (x**2-y**2+3*x*y**3-2*x**2*y**2+2*x-3*y-5, 3*y**3-2*x**2+2*x**3*y-5*x**2*y**2+5)\n",
    "\n",
    "def f_prime(p):\n",
    "    x, y = p\n",
    "    return (-2*x*(2*y**2-1)+3*y**3+2, y*(-4*x**2+9*x*y-2)-3, 2*x*(y*(3*x-5*y)-2), 9*y**2+2*x**3-10*x**2*y)\n",
    "\n",
    "x0=10\n",
    "y0=10\n",
    "\n",
    "print (newton(f, f_prime, x0, y0))"
   ]
  },
  {
   "cell_type": "code",
   "execution_count": 3,
   "metadata": {},
   "outputs": [
    {
     "name": "stdout",
     "output_type": "stream",
     "text": [
      "1.273302064528599 1.6620391224277693 1\n"
     ]
    }
   ],
   "source": [
    "def equations(p):\n",
    "    x, y = p\n",
    "    return (x**2-y**2+3*x*y**3-2*x**2*y**2+2*x-3*y-5, 3*y**3-2*x**2+2*x**3*y-5*x**2*y**2+5)\n",
    "\n",
    "# Численное решение нелинечной системы уравнений\n",
    "(x, y), info, ier, mesg =  fsolve(equations, (10, 10), full_output=True)\n",
    "print (x, y, ier)\n"
   ]
  },
  {
   "attachments": {
    "l9.gif": {
     "image/gif": "[encoded data removed]"
    }
   },
   "cell_type": "markdown",
   "metadata": {},
   "source": [
    "![l9.gif](attachment:l9.gif)"
   ]
  },
  {
   "cell_type": "code",
   "execution_count": 4,
   "metadata": {},
   "outputs": [
    {
     "name": "stdout",
     "output_type": "stream",
     "text": [
      "[(-3.65308, -0.2747634), (2.2177536, 0.610194), (2.4943565, 0.7083175), (1.3756871, -0.174758), (1.2733021, 1.6620391)]\n"
     ]
    }
   ],
   "source": [
    "# Отстраиваю сетку по узлам которой произведу расчет корней.\n",
    "# Параметры сетки подбираю таким образом, чтобы при максимальном шаге высчитывалось как можно больше корней\n",
    "# Для нагладности подбор делаю вручную, но можно и автоматизировать.\n",
    "# Колчество ячеек.\n",
    "nx = 20\n",
    "ny = 20\n",
    "# Координата нулевой ячейки.\n",
    "x0 = -5\n",
    "y0 = -5\n",
    "# Шаг ячейки.\n",
    "dx = 2*abs(x0) / nx \n",
    "dy = 2*abs(y0) / ny\n",
    "result = []\n",
    "for x_index in range(nx):\n",
    "    x0 += dx\n",
    "    for y_index in range(ny):\n",
    "        y0 += dy\n",
    "        # Рассчитываем в узлах сетки значения корней системы уравнений.\n",
    "        x, y = newton(f, f_prime, x0, y0)\n",
    "        # Сохраняем результат.        \n",
    "        result.append((round(x,7),round(y,7)))\n",
    "# На вывод подаем только не повторяющиеся значения.\n",
    "print (list(set(result)))"
   ]
  },
  {
   "cell_type": "code",
   "execution_count": 5,
   "metadata": {},
   "outputs": [
    {
     "name": "stdout",
     "output_type": "stream",
     "text": [
      "[(-3.65308, -0.2747634), (2.2177536, 0.610194), (2.4943565, 0.7083175), (1.3756871, -0.174758), (1.2733021, 1.6620391)]\n"
     ]
    }
   ],
   "source": [
    "# То же самое для fsolve.\n",
    "nx = 20\n",
    "ny = 20\n",
    "x0 = 5\n",
    "y0 = 5\n",
    "dx = 2*abs(x0) / nx \n",
    "dy = 2*abs(y0) / ny\n",
    "result = []\n",
    "for x_index in range(nx):\n",
    "    x0 -= dx\n",
    "    for y_index in range(ny):\n",
    "        y0 -= dy\n",
    "        (x, y), info, ier, mesg = fsolve(equations, (x0, y0), full_output=True)\n",
    "        if (ier == 1):\n",
    "            result.append((round(x,7),round(y,7)))\n",
    "print (list(set(result)))"
   ]
  }
 ],
 "metadata": {
  "kernelspec": {
   "display_name": "Python 3",
   "language": "python",
   "name": "python3"
  },
  "language_info": {
   "codemirror_mode": {
    "name": "ipython",
    "version": 3
   },
   "file_extension": ".py",
   "mimetype": "text/x-python",
   "name": "python",
   "nbconvert_exporter": "python",
   "pygments_lexer": "ipython3",
   "version": "3.6.5"
  }
 },
 "nbformat": 4,
 "nbformat_minor": 2
}
